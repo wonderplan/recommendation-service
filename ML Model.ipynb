{
 "cells": [
  {
   "cell_type": "code",
   "execution_count": 1,
   "metadata": {
    "pycharm": {
     "name": "#%%\n"
    }
   },
   "outputs": [],
   "source": [
    "import matplotlib.pyplot as plt\n",
    "import pandas as pd, numpy as np\n",
    "from sklearn.preprocessing import StandardScaler\n",
    "from sklearn.cluster import KMeans\n",
    "from sklearn.decomposition import PCA\n",
    "from collections import Counter\n",
    "import pickle\n",
    "\n",
    "df = pd.read_csv('./data.csv')\n",
    "model_file = \"model.sav\"\n",
    "\n",
    "# Remove id column\n",
    "df.drop([\"Unnamed: 0\"],  axis=1, inplace=True)"
   ]
  },
  {
   "cell_type": "code",
   "execution_count": 2,
   "metadata": {
    "id": "0p_QB7_uljrR"
   },
   "outputs": [],
   "source": [
    "attractions_cols = list(range(7,21))\n",
    "\n",
    "df_user_prefs = df.drop(df.columns[attractions_cols], axis=1)"
   ]
  },
  {
   "cell_type": "code",
   "execution_count": 3,
   "metadata": {
    "colab": {
     "base_uri": "https://localhost:8080/",
     "height": 275
    },
    "id": "P71-2Vb0V1G9",
    "outputId": "209ab8b3-8af6-46c1-f6d2-24167f38e742"
   },
   "outputs": [
    {
     "data": {
      "text/html": [
       "<div>\n",
       "<style scoped>\n",
       "    .dataframe tbody tr th:only-of-type {\n",
       "        vertical-align: middle;\n",
       "    }\n",
       "\n",
       "    .dataframe tbody tr th {\n",
       "        vertical-align: top;\n",
       "    }\n",
       "\n",
       "    .dataframe thead th {\n",
       "        text-align: right;\n",
       "    }\n",
       "</style>\n",
       "<table border=\"1\" class=\"dataframe\">\n",
       "  <thead>\n",
       "    <tr style=\"text-align: right;\">\n",
       "      <th></th>\n",
       "      <th>age</th>\n",
       "      <th>gender</th>\n",
       "      <th>open_closed_spaces</th>\n",
       "      <th>classical_new_places</th>\n",
       "      <th>fast_slow_trip</th>\n",
       "      <th>more_short_less_long_trip</th>\n",
       "      <th>alone_company</th>\n",
       "      <th>music_style_Forró/Sertanejo</th>\n",
       "      <th>music_style_MPB</th>\n",
       "      <th>music_style_Pop</th>\n",
       "      <th>...</th>\n",
       "      <th>fav_scenario_Montanha</th>\n",
       "      <th>fav_scenario_Praia</th>\n",
       "      <th>fav_place_Lojas/shoppings/centros comercias</th>\n",
       "      <th>fav_place_Museus</th>\n",
       "      <th>fav_place_Parques</th>\n",
       "      <th>fav_place_Restaurantes típicos</th>\n",
       "      <th>fav_place_Trilhas</th>\n",
       "      <th>transport_Carro Alugado</th>\n",
       "      <th>transport_Transporte Público</th>\n",
       "      <th>transport_Táxi/Uber/99</th>\n",
       "    </tr>\n",
       "  </thead>\n",
       "  <tbody>\n",
       "    <tr>\n",
       "      <th>0</th>\n",
       "      <td>23</td>\n",
       "      <td>1</td>\n",
       "      <td>0</td>\n",
       "      <td>0</td>\n",
       "      <td>0</td>\n",
       "      <td>1</td>\n",
       "      <td>0</td>\n",
       "      <td>0</td>\n",
       "      <td>0</td>\n",
       "      <td>0</td>\n",
       "      <td>...</td>\n",
       "      <td>0</td>\n",
       "      <td>0</td>\n",
       "      <td>0</td>\n",
       "      <td>0</td>\n",
       "      <td>0</td>\n",
       "      <td>1</td>\n",
       "      <td>0</td>\n",
       "      <td>0</td>\n",
       "      <td>1</td>\n",
       "      <td>0</td>\n",
       "    </tr>\n",
       "    <tr>\n",
       "      <th>1</th>\n",
       "      <td>24</td>\n",
       "      <td>0</td>\n",
       "      <td>0</td>\n",
       "      <td>0</td>\n",
       "      <td>0</td>\n",
       "      <td>1</td>\n",
       "      <td>0</td>\n",
       "      <td>0</td>\n",
       "      <td>0</td>\n",
       "      <td>0</td>\n",
       "      <td>...</td>\n",
       "      <td>0</td>\n",
       "      <td>0</td>\n",
       "      <td>0</td>\n",
       "      <td>0</td>\n",
       "      <td>1</td>\n",
       "      <td>0</td>\n",
       "      <td>0</td>\n",
       "      <td>1</td>\n",
       "      <td>0</td>\n",
       "      <td>0</td>\n",
       "    </tr>\n",
       "    <tr>\n",
       "      <th>2</th>\n",
       "      <td>21</td>\n",
       "      <td>1</td>\n",
       "      <td>0</td>\n",
       "      <td>0</td>\n",
       "      <td>1</td>\n",
       "      <td>1</td>\n",
       "      <td>0</td>\n",
       "      <td>0</td>\n",
       "      <td>0</td>\n",
       "      <td>1</td>\n",
       "      <td>...</td>\n",
       "      <td>0</td>\n",
       "      <td>0</td>\n",
       "      <td>1</td>\n",
       "      <td>0</td>\n",
       "      <td>0</td>\n",
       "      <td>0</td>\n",
       "      <td>0</td>\n",
       "      <td>1</td>\n",
       "      <td>0</td>\n",
       "      <td>0</td>\n",
       "    </tr>\n",
       "    <tr>\n",
       "      <th>3</th>\n",
       "      <td>24</td>\n",
       "      <td>1</td>\n",
       "      <td>0</td>\n",
       "      <td>0</td>\n",
       "      <td>1</td>\n",
       "      <td>1</td>\n",
       "      <td>0</td>\n",
       "      <td>1</td>\n",
       "      <td>0</td>\n",
       "      <td>0</td>\n",
       "      <td>...</td>\n",
       "      <td>0</td>\n",
       "      <td>1</td>\n",
       "      <td>0</td>\n",
       "      <td>0</td>\n",
       "      <td>1</td>\n",
       "      <td>0</td>\n",
       "      <td>0</td>\n",
       "      <td>0</td>\n",
       "      <td>0</td>\n",
       "      <td>1</td>\n",
       "    </tr>\n",
       "    <tr>\n",
       "      <th>4</th>\n",
       "      <td>26</td>\n",
       "      <td>0</td>\n",
       "      <td>0</td>\n",
       "      <td>0</td>\n",
       "      <td>0</td>\n",
       "      <td>1</td>\n",
       "      <td>0</td>\n",
       "      <td>1</td>\n",
       "      <td>0</td>\n",
       "      <td>0</td>\n",
       "      <td>...</td>\n",
       "      <td>0</td>\n",
       "      <td>1</td>\n",
       "      <td>0</td>\n",
       "      <td>0</td>\n",
       "      <td>0</td>\n",
       "      <td>1</td>\n",
       "      <td>0</td>\n",
       "      <td>0</td>\n",
       "      <td>0</td>\n",
       "      <td>1</td>\n",
       "    </tr>\n",
       "  </tbody>\n",
       "</table>\n",
       "<p>5 rows × 33 columns</p>\n",
       "</div>"
      ],
      "text/plain": [
       "   age  gender  open_closed_spaces  classical_new_places  fast_slow_trip  \\\n",
       "0   23       1                   0                     0               0   \n",
       "1   24       0                   0                     0               0   \n",
       "2   21       1                   0                     0               1   \n",
       "3   24       1                   0                     0               1   \n",
       "4   26       0                   0                     0               0   \n",
       "\n",
       "   more_short_less_long_trip  alone_company  music_style_Forró/Sertanejo  \\\n",
       "0                          1              0                            0   \n",
       "1                          1              0                            0   \n",
       "2                          1              0                            0   \n",
       "3                          1              0                            1   \n",
       "4                          1              0                            1   \n",
       "\n",
       "   music_style_MPB  music_style_Pop  ...  fav_scenario_Montanha  \\\n",
       "0                0                0  ...                      0   \n",
       "1                0                0  ...                      0   \n",
       "2                0                1  ...                      0   \n",
       "3                0                0  ...                      0   \n",
       "4                0                0  ...                      0   \n",
       "\n",
       "   fav_scenario_Praia  fav_place_Lojas/shoppings/centros comercias  \\\n",
       "0                   0                                            0   \n",
       "1                   0                                            0   \n",
       "2                   0                                            1   \n",
       "3                   1                                            0   \n",
       "4                   1                                            0   \n",
       "\n",
       "   fav_place_Museus  fav_place_Parques  fav_place_Restaurantes típicos  \\\n",
       "0                 0                  0                               1   \n",
       "1                 0                  1                               0   \n",
       "2                 0                  0                               0   \n",
       "3                 0                  1                               0   \n",
       "4                 0                  0                               1   \n",
       "\n",
       "   fav_place_Trilhas  transport_Carro Alugado  transport_Transporte Público  \\\n",
       "0                  0                        0                             1   \n",
       "1                  0                        1                             0   \n",
       "2                  0                        1                             0   \n",
       "3                  0                        0                             0   \n",
       "4                  0                        0                             0   \n",
       "\n",
       "   transport_Táxi/Uber/99  \n",
       "0                       0  \n",
       "1                       0  \n",
       "2                       0  \n",
       "3                       1  \n",
       "4                       1  \n",
       "\n",
       "[5 rows x 33 columns]"
      ]
     },
     "execution_count": 3,
     "metadata": {},
     "output_type": "execute_result"
    }
   ],
   "source": [
    "df_user_prefs.head(5)"
   ]
  },
  {
   "cell_type": "code",
   "execution_count": 4,
   "metadata": {
    "id": "9084BW1O3mqo"
   },
   "outputs": [],
   "source": [
    "# Normalize the dataframe\n",
    "scaler = StandardScaler()\n",
    "normData = scaler.fit_transform(df_user_prefs)\n",
    "df_user_prefs = pd.DataFrame(normData, columns=df_user_prefs.columns)"
   ]
  },
  {
   "cell_type": "code",
   "execution_count": 5,
   "metadata": {
    "colab": {
     "base_uri": "https://localhost:8080/",
     "height": 349
    },
    "id": "Xv9SQrXGc8ax",
    "outputId": "d469b326-7813-4002-a064-535b7f47d36a"
   },
   "outputs": [
    {
     "data": {
      "text/plain": [
       "[<matplotlib.lines.Line2D at 0x15ebdab50>]"
      ]
     },
     "execution_count": 5,
     "metadata": {},
     "output_type": "execute_result"
    },
    {
     "data": {
      "image/png": "[encoded data removed]",
      "text/plain": [
       "<Figure size 432x288 with 1 Axes>"
      ]
     },
     "metadata": {
      "needs_background": "light"
     },
     "output_type": "display_data"
    }
   ],
   "source": [
    "# Find optimal cluster amount\n",
    "wcss = []\n",
    "amount_clusters = range(1,30)\n",
    "\n",
    "for n in amount_clusters:\n",
    "    kmeans = KMeans(n_clusters=n, random_state=0)\n",
    "    kmeans.fit(df_user_prefs)\n",
    "    wcss.append(kmeans.inertia_)\n",
    "  \n",
    "plt.title('The Elbow Method')\n",
    "plt.xlabel(\"amount of clusters\")\n",
    "plt.ylabel(\"wcss\")\n",
    "plt.plot(amount_clusters, wcss)\n",
    "plt.plot(amount_clusters, wcss, 'bo')"
   ]
  },
  {
   "cell_type": "code",
   "execution_count": 6,
   "metadata": {
    "colab": {
     "base_uri": "https://localhost:8080/",
     "height": 419
    },
    "id": "4WnTlSDKeoeh",
    "outputId": "7bf2fdb3-a75b-4951-f4a1-6a97e6e426db"
   },
   "outputs": [
    {
     "data": {
      "text/html": [
       "<div>\n",
       "<style scoped>\n",
       "    .dataframe tbody tr th:only-of-type {\n",
       "        vertical-align: middle;\n",
       "    }\n",
       "\n",
       "    .dataframe tbody tr th {\n",
       "        vertical-align: top;\n",
       "    }\n",
       "\n",
       "    .dataframe thead th {\n",
       "        text-align: right;\n",
       "    }\n",
       "</style>\n",
       "<table border=\"1\" class=\"dataframe\">\n",
       "  <thead>\n",
       "    <tr style=\"text-align: right;\">\n",
       "      <th></th>\n",
       "      <th>C1</th>\n",
       "      <th>C2</th>\n",
       "    </tr>\n",
       "  </thead>\n",
       "  <tbody>\n",
       "    <tr>\n",
       "      <th>0</th>\n",
       "      <td>-0.300161</td>\n",
       "      <td>2.789594</td>\n",
       "    </tr>\n",
       "    <tr>\n",
       "      <th>1</th>\n",
       "      <td>0.928941</td>\n",
       "      <td>0.278072</td>\n",
       "    </tr>\n",
       "    <tr>\n",
       "      <th>2</th>\n",
       "      <td>-0.421325</td>\n",
       "      <td>3.621790</td>\n",
       "    </tr>\n",
       "    <tr>\n",
       "      <th>3</th>\n",
       "      <td>-3.935698</td>\n",
       "      <td>-2.368882</td>\n",
       "    </tr>\n",
       "    <tr>\n",
       "      <th>4</th>\n",
       "      <td>-1.151257</td>\n",
       "      <td>-1.469944</td>\n",
       "    </tr>\n",
       "    <tr>\n",
       "      <th>...</th>\n",
       "      <td>...</td>\n",
       "      <td>...</td>\n",
       "    </tr>\n",
       "    <tr>\n",
       "      <th>4020</th>\n",
       "      <td>-2.156721</td>\n",
       "      <td>-0.797261</td>\n",
       "    </tr>\n",
       "    <tr>\n",
       "      <th>4021</th>\n",
       "      <td>-0.352588</td>\n",
       "      <td>3.434759</td>\n",
       "    </tr>\n",
       "    <tr>\n",
       "      <th>4022</th>\n",
       "      <td>0.119844</td>\n",
       "      <td>-0.061273</td>\n",
       "    </tr>\n",
       "    <tr>\n",
       "      <th>4023</th>\n",
       "      <td>0.564055</td>\n",
       "      <td>-0.862834</td>\n",
       "    </tr>\n",
       "    <tr>\n",
       "      <th>4024</th>\n",
       "      <td>0.441251</td>\n",
       "      <td>0.637325</td>\n",
       "    </tr>\n",
       "  </tbody>\n",
       "</table>\n",
       "<p>4025 rows × 2 columns</p>\n",
       "</div>"
      ],
      "text/plain": [
       "            C1        C2\n",
       "0    -0.300161  2.789594\n",
       "1     0.928941  0.278072\n",
       "2    -0.421325  3.621790\n",
       "3    -3.935698 -2.368882\n",
       "4    -1.151257 -1.469944\n",
       "...        ...       ...\n",
       "4020 -2.156721 -0.797261\n",
       "4021 -0.352588  3.434759\n",
       "4022  0.119844 -0.061273\n",
       "4023  0.564055 -0.862834\n",
       "4024  0.441251  0.637325\n",
       "\n",
       "[4025 rows x 2 columns]"
      ]
     },
     "execution_count": 6,
     "metadata": {},
     "output_type": "execute_result"
    }
   ],
   "source": [
    "# Use PCA to reduce the dataset to two columns\n",
    "df_values = df_user_prefs.values\n",
    "pca = PCA(n_components=2)\n",
    "pca_values = pca.fit_transform(df_values)\n",
    "pca_df = pd.DataFrame(data=pca_values, columns=['C1','C2'])\n",
    "\n",
    "pca_df"
   ]
  },
  {
   "cell_type": "code",
   "execution_count": 7,
   "metadata": {
    "id": "N0lY-vOidCJQ"
   },
   "outputs": [
    {
     "name": "stdout",
     "output_type": "stream",
     "text": [
      "Loaded model\n"
     ]
    }
   ],
   "source": [
    "def get_model(amt_clusters):\n",
    "  try:\n",
    "    model = pickle.load(open(model_file, 'rb'))\n",
    "    labels = model.labels_\n",
    "    print(\"Loaded model\")\n",
    "    return model\n",
    "  except:\n",
    "    print(\"Saved model\")\n",
    "    model = KMeans(n_clusters=amt_clusters, random_state=12345)\n",
    "    pickle.dump(model, open(model_file, 'wb'))\n",
    "    return model\n",
    "\n",
    "model = get_model(9)\n",
    "model.fit(df_user_prefs)\n",
    "labels = model.predict(df_user_prefs)"
   ]
  },
  {
   "cell_type": "code",
   "execution_count": 8,
   "metadata": {
    "colab": {
     "base_uri": "https://localhost:8080/",
     "height": 265
    },
    "id": "BVA1PcWdC4nN",
    "outputId": "2ce1c30b-93f8-41cf-ac96-c4ce50c81db2",
    "scrolled": true
   },
   "outputs": [
    {
     "data": {
      "text/plain": [
       "<matplotlib.collections.PathCollection at 0x15ebf5150>"
      ]
     },
     "execution_count": 8,
     "metadata": {},
     "output_type": "execute_result"
    },
    {
     "data": {
      "image/png": "[encoded data removed]",
      "text/plain": [
       "<Figure size 432x288 with 1 Axes>"
      ]
     },
     "metadata": {
      "needs_background": "light"
     },
     "output_type": "display_data"
    }
   ],
   "source": [
    "# Visualize the clusters\n",
    "plt.scatter(pca_df['C1'], pca_df['C2'], c=labels, cmap=\"coolwarm\")"
   ]
  },
  {
   "cell_type": "code",
   "execution_count": 9,
   "metadata": {
    "colab": {
     "base_uri": "https://localhost:8080/"
    },
    "id": "WGW5My--ZqmW",
    "outputId": "dac67955-c923-4006-dacd-7dac2783d63c"
   },
   "outputs": [
    {
     "data": {
      "text/plain": [
       "Counter({7: 205,\n",
       "         1: 780,\n",
       "         5: 578,\n",
       "         8: 539,\n",
       "         6: 178,\n",
       "         2: 226,\n",
       "         0: 685,\n",
       "         3: 313,\n",
       "         4: 521})"
      ]
     },
     "execution_count": 9,
     "metadata": {},
     "output_type": "execute_result"
    }
   ],
   "source": [
    "# Amount of users per cluster\n",
    "Counter(labels)"
   ]
  },
  {
   "cell_type": "code",
   "execution_count": 10,
   "metadata": {
    "colab": {
     "base_uri": "https://localhost:8080/",
     "height": 213
    },
    "id": "ETcpxwHtXF7m",
    "outputId": "fb405024-d620-492d-df47-71a0aacfc118"
   },
   "outputs": [
    {
     "data": {
      "text/html": [
       "<div>\n",
       "<style scoped>\n",
       "    .dataframe tbody tr th:only-of-type {\n",
       "        vertical-align: middle;\n",
       "    }\n",
       "\n",
       "    .dataframe tbody tr th {\n",
       "        vertical-align: top;\n",
       "    }\n",
       "\n",
       "    .dataframe thead th {\n",
       "        text-align: right;\n",
       "    }\n",
       "</style>\n",
       "<table border=\"1\" class=\"dataframe\">\n",
       "  <thead>\n",
       "    <tr style=\"text-align: right;\">\n",
       "      <th></th>\n",
       "      <th>age</th>\n",
       "      <th>gender</th>\n",
       "      <th>open_closed_spaces</th>\n",
       "      <th>classical_new_places</th>\n",
       "      <th>fast_slow_trip</th>\n",
       "      <th>more_short_less_long_trip</th>\n",
       "      <th>alone_company</th>\n",
       "      <th>ibirapuera</th>\n",
       "      <th>masp</th>\n",
       "      <th>jadim_pref</th>\n",
       "      <th>...</th>\n",
       "      <th>fav_scenario_Montanha</th>\n",
       "      <th>fav_scenario_Praia</th>\n",
       "      <th>fav_place_Lojas/shoppings/centros comercias</th>\n",
       "      <th>fav_place_Museus</th>\n",
       "      <th>fav_place_Parques</th>\n",
       "      <th>fav_place_Restaurantes típicos</th>\n",
       "      <th>fav_place_Trilhas</th>\n",
       "      <th>transport_Carro Alugado</th>\n",
       "      <th>transport_Transporte Público</th>\n",
       "      <th>transport_Táxi/Uber/99</th>\n",
       "    </tr>\n",
       "  </thead>\n",
       "  <tbody>\n",
       "    <tr>\n",
       "      <th>0</th>\n",
       "      <td>23</td>\n",
       "      <td>1</td>\n",
       "      <td>0</td>\n",
       "      <td>0</td>\n",
       "      <td>0</td>\n",
       "      <td>1</td>\n",
       "      <td>0</td>\n",
       "      <td>5</td>\n",
       "      <td>3</td>\n",
       "      <td>3</td>\n",
       "      <td>...</td>\n",
       "      <td>0</td>\n",
       "      <td>0</td>\n",
       "      <td>0</td>\n",
       "      <td>0</td>\n",
       "      <td>0</td>\n",
       "      <td>1</td>\n",
       "      <td>0</td>\n",
       "      <td>0</td>\n",
       "      <td>1</td>\n",
       "      <td>0</td>\n",
       "    </tr>\n",
       "    <tr>\n",
       "      <th>1</th>\n",
       "      <td>24</td>\n",
       "      <td>0</td>\n",
       "      <td>0</td>\n",
       "      <td>0</td>\n",
       "      <td>0</td>\n",
       "      <td>1</td>\n",
       "      <td>0</td>\n",
       "      <td>4</td>\n",
       "      <td>2</td>\n",
       "      <td>5</td>\n",
       "      <td>...</td>\n",
       "      <td>0</td>\n",
       "      <td>0</td>\n",
       "      <td>0</td>\n",
       "      <td>0</td>\n",
       "      <td>1</td>\n",
       "      <td>0</td>\n",
       "      <td>0</td>\n",
       "      <td>1</td>\n",
       "      <td>0</td>\n",
       "      <td>0</td>\n",
       "    </tr>\n",
       "    <tr>\n",
       "      <th>2</th>\n",
       "      <td>21</td>\n",
       "      <td>1</td>\n",
       "      <td>0</td>\n",
       "      <td>0</td>\n",
       "      <td>1</td>\n",
       "      <td>1</td>\n",
       "      <td>0</td>\n",
       "      <td>5</td>\n",
       "      <td>5</td>\n",
       "      <td>5</td>\n",
       "      <td>...</td>\n",
       "      <td>0</td>\n",
       "      <td>0</td>\n",
       "      <td>1</td>\n",
       "      <td>0</td>\n",
       "      <td>0</td>\n",
       "      <td>0</td>\n",
       "      <td>0</td>\n",
       "      <td>1</td>\n",
       "      <td>0</td>\n",
       "      <td>0</td>\n",
       "    </tr>\n",
       "  </tbody>\n",
       "</table>\n",
       "<p>3 rows × 47 columns</p>\n",
       "</div>"
      ],
      "text/plain": [
       "   age  gender  open_closed_spaces  classical_new_places  fast_slow_trip  \\\n",
       "0   23       1                   0                     0               0   \n",
       "1   24       0                   0                     0               0   \n",
       "2   21       1                   0                     0               1   \n",
       "\n",
       "   more_short_less_long_trip  alone_company  ibirapuera  masp  jadim_pref  \\\n",
       "0                          1              0           5     3           3   \n",
       "1                          1              0           4     2           5   \n",
       "2                          1              0           5     5           5   \n",
       "\n",
       "   ...  fav_scenario_Montanha  fav_scenario_Praia  \\\n",
       "0  ...                      0                   0   \n",
       "1  ...                      0                   0   \n",
       "2  ...                      0                   0   \n",
       "\n",
       "   fav_place_Lojas/shoppings/centros comercias  fav_place_Museus  \\\n",
       "0                                            0                 0   \n",
       "1                                            0                 0   \n",
       "2                                            1                 0   \n",
       "\n",
       "   fav_place_Parques  fav_place_Restaurantes típicos  fav_place_Trilhas  \\\n",
       "0                  0                               1                  0   \n",
       "1                  1                               0                  0   \n",
       "2                  0                               0                  0   \n",
       "\n",
       "   transport_Carro Alugado  transport_Transporte Público  \\\n",
       "0                        0                             1   \n",
       "1                        1                             0   \n",
       "2                        1                             0   \n",
       "\n",
       "   transport_Táxi/Uber/99  \n",
       "0                       0  \n",
       "1                       0  \n",
       "2                       0  \n",
       "\n",
       "[3 rows x 47 columns]"
      ]
     },
     "execution_count": 10,
     "metadata": {},
     "output_type": "execute_result"
    }
   ],
   "source": [
    "df.head(3)"
   ]
  },
  {
   "cell_type": "code",
   "execution_count": 11,
   "metadata": {
    "id": "wvMAHgIQHK9K"
   },
   "outputs": [],
   "source": [
    "# Insert a column with the user cluster\n",
    "df.insert(0, \"label\", labels)"
   ]
  },
  {
   "cell_type": "code",
   "execution_count": 12,
   "metadata": {
    "colab": {
     "base_uri": "https://localhost:8080/",
     "height": 213
    },
    "id": "_y_1EqZMXUTF",
    "outputId": "803ee62f-1b92-490e-9285-3d166a248e19"
   },
   "outputs": [
    {
     "data": {
      "text/html": [
       "<div>\n",
       "<style scoped>\n",
       "    .dataframe tbody tr th:only-of-type {\n",
       "        vertical-align: middle;\n",
       "    }\n",
       "\n",
       "    .dataframe tbody tr th {\n",
       "        vertical-align: top;\n",
       "    }\n",
       "\n",
       "    .dataframe thead th {\n",
       "        text-align: right;\n",
       "    }\n",
       "</style>\n",
       "<table border=\"1\" class=\"dataframe\">\n",
       "  <thead>\n",
       "    <tr style=\"text-align: right;\">\n",
       "      <th></th>\n",
       "      <th>label</th>\n",
       "      <th>age</th>\n",
       "      <th>gender</th>\n",
       "      <th>open_closed_spaces</th>\n",
       "      <th>classical_new_places</th>\n",
       "      <th>fast_slow_trip</th>\n",
       "      <th>more_short_less_long_trip</th>\n",
       "      <th>alone_company</th>\n",
       "      <th>ibirapuera</th>\n",
       "      <th>masp</th>\n",
       "      <th>...</th>\n",
       "      <th>fav_scenario_Montanha</th>\n",
       "      <th>fav_scenario_Praia</th>\n",
       "      <th>fav_place_Lojas/shoppings/centros comercias</th>\n",
       "      <th>fav_place_Museus</th>\n",
       "      <th>fav_place_Parques</th>\n",
       "      <th>fav_place_Restaurantes típicos</th>\n",
       "      <th>fav_place_Trilhas</th>\n",
       "      <th>transport_Carro Alugado</th>\n",
       "      <th>transport_Transporte Público</th>\n",
       "      <th>transport_Táxi/Uber/99</th>\n",
       "    </tr>\n",
       "  </thead>\n",
       "  <tbody>\n",
       "    <tr>\n",
       "      <th>0</th>\n",
       "      <td>7</td>\n",
       "      <td>23</td>\n",
       "      <td>1</td>\n",
       "      <td>0</td>\n",
       "      <td>0</td>\n",
       "      <td>0</td>\n",
       "      <td>1</td>\n",
       "      <td>0</td>\n",
       "      <td>5</td>\n",
       "      <td>3</td>\n",
       "      <td>...</td>\n",
       "      <td>0</td>\n",
       "      <td>0</td>\n",
       "      <td>0</td>\n",
       "      <td>0</td>\n",
       "      <td>0</td>\n",
       "      <td>1</td>\n",
       "      <td>0</td>\n",
       "      <td>0</td>\n",
       "      <td>1</td>\n",
       "      <td>0</td>\n",
       "    </tr>\n",
       "    <tr>\n",
       "      <th>1</th>\n",
       "      <td>1</td>\n",
       "      <td>24</td>\n",
       "      <td>0</td>\n",
       "      <td>0</td>\n",
       "      <td>0</td>\n",
       "      <td>0</td>\n",
       "      <td>1</td>\n",
       "      <td>0</td>\n",
       "      <td>4</td>\n",
       "      <td>2</td>\n",
       "      <td>...</td>\n",
       "      <td>0</td>\n",
       "      <td>0</td>\n",
       "      <td>0</td>\n",
       "      <td>0</td>\n",
       "      <td>1</td>\n",
       "      <td>0</td>\n",
       "      <td>0</td>\n",
       "      <td>1</td>\n",
       "      <td>0</td>\n",
       "      <td>0</td>\n",
       "    </tr>\n",
       "    <tr>\n",
       "      <th>2</th>\n",
       "      <td>5</td>\n",
       "      <td>21</td>\n",
       "      <td>1</td>\n",
       "      <td>0</td>\n",
       "      <td>0</td>\n",
       "      <td>1</td>\n",
       "      <td>1</td>\n",
       "      <td>0</td>\n",
       "      <td>5</td>\n",
       "      <td>5</td>\n",
       "      <td>...</td>\n",
       "      <td>0</td>\n",
       "      <td>0</td>\n",
       "      <td>1</td>\n",
       "      <td>0</td>\n",
       "      <td>0</td>\n",
       "      <td>0</td>\n",
       "      <td>0</td>\n",
       "      <td>1</td>\n",
       "      <td>0</td>\n",
       "      <td>0</td>\n",
       "    </tr>\n",
       "  </tbody>\n",
       "</table>\n",
       "<p>3 rows × 48 columns</p>\n",
       "</div>"
      ],
      "text/plain": [
       "   label  age  gender  open_closed_spaces  classical_new_places  \\\n",
       "0      7   23       1                   0                     0   \n",
       "1      1   24       0                   0                     0   \n",
       "2      5   21       1                   0                     0   \n",
       "\n",
       "   fast_slow_trip  more_short_less_long_trip  alone_company  ibirapuera  masp  \\\n",
       "0               0                          1              0           5     3   \n",
       "1               0                          1              0           4     2   \n",
       "2               1                          1              0           5     5   \n",
       "\n",
       "   ...  fav_scenario_Montanha  fav_scenario_Praia  \\\n",
       "0  ...                      0                   0   \n",
       "1  ...                      0                   0   \n",
       "2  ...                      0                   0   \n",
       "\n",
       "   fav_place_Lojas/shoppings/centros comercias  fav_place_Museus  \\\n",
       "0                                            0                 0   \n",
       "1                                            0                 0   \n",
       "2                                            1                 0   \n",
       "\n",
       "   fav_place_Parques  fav_place_Restaurantes típicos  fav_place_Trilhas  \\\n",
       "0                  0                               1                  0   \n",
       "1                  1                               0                  0   \n",
       "2                  0                               0                  0   \n",
       "\n",
       "   transport_Carro Alugado  transport_Transporte Público  \\\n",
       "0                        0                             1   \n",
       "1                        1                             0   \n",
       "2                        1                             0   \n",
       "\n",
       "   transport_Táxi/Uber/99  \n",
       "0                       0  \n",
       "1                       0  \n",
       "2                       0  \n",
       "\n",
       "[3 rows x 48 columns]"
      ]
     },
     "execution_count": 12,
     "metadata": {},
     "output_type": "execute_result"
    }
   ],
   "source": [
    "df.head(3)"
   ]
  },
  {
   "cell_type": "code",
   "execution_count": 13,
   "metadata": {
    "id": "w2IQyczOr3Yu"
   },
   "outputs": [],
   "source": [
    "def get_attractions_means(user_data):\n",
    "  attractions_means = {}\n",
    "  user_cluster = int(model.predict(user_data))\n",
    "  print(\"User Cluster: \" + str(user_cluster))\n",
    "  df_cluster = df[df[\"label\"] == user_cluster]\n",
    "  for i in range(8,22):\n",
    "    attraction_mean = df_cluster.iloc[:,i].mean()\n",
    "    attractions_means[df.columns[i]] = attraction_mean\n",
    "  return attractions_means\n",
    "\n",
    "def get_recommended_attractions(user_data):\n",
    "  means = get_attractions_means(user_data)\n",
    "  return sorted(means, key=means.get, reverse=True)[:5]"
   ]
  },
  {
   "cell_type": "code",
   "execution_count": 14,
   "metadata": {
    "colab": {
     "base_uri": "https://localhost:8080/"
    },
    "id": "_NEMlcgne2dg",
    "outputId": "101c0f31-5985-4900-889b-371bf1dabe73"
   },
   "outputs": [
    {
     "name": "stdout",
     "output_type": "stream",
     "text": [
      "User Cluster: 6\n"
     ]
    },
    {
     "data": {
      "text/plain": [
       "['jadim_pref', 'terraco_italia', 'eataly', 'la_guapa', 'mirante']"
      ]
     },
     "execution_count": 14,
     "metadata": {},
     "output_type": "execute_result"
    }
   ],
   "source": [
    "user = [\n",
    "    [21,  1,  0,  0,  0,  1,  0, 0,  0,  0,  1,  0,  0,  0,  1,  0,  0,  0, 0,  0,  1,  0,  1,  0,  0,  0,  0,  0,  1,  0,  0,  1,  0],\n",
    "]\n",
    "\n",
    "get_recommended_attractions(user)"
   ]
  }
 ],
 "metadata": {
  "colab": {
   "collapsed_sections": [],
   "name": "[wonderplan] Modelo.ipynb",
   "provenance": []
  },
  "kernelspec": {
   "display_name": "Python 3",
   "language": "python",
   "name": "python3"
  },
  "language_info": {
   "codemirror_mode": {
    "name": "ipython",
    "version": 3
   },
   "file_extension": ".py",
   "mimetype": "text/x-python",
   "name": "python",
   "nbconvert_exporter": "python",
   "pygments_lexer": "ipython3",
   "version": "3.7.5"
  }
 },
 "nbformat": 4,
 "nbformat_minor": 1
}